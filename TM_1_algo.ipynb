{
 "cells": [
  {
   "cell_type": "code",
   "execution_count": 145,
   "id": "99d6d5e5-908e-4659-a9bd-51ccbbe08c8c",
   "metadata": {},
   "outputs": [],
   "source": [
    "import math\n",
    "import itertools\n",
    "import timeit"
   ]
  },
  {
   "cell_type": "markdown",
   "id": "68c173ed-e1e4-47d5-b861-d5e2c843af8e",
   "metadata": {},
   "source": [
    "#### Problem Statement:\n",
    "Consider the quadratic function: \\\n",
    "\\\n",
    "f(n) = n**2 + an + b, |a| < 1000 and |b| <= 1000 \\\n",
    "\\\n",
    "Find the product of the coefficients, a and b, that products the the maximum number of primes for consecutive values of n, from n=0.\\"
   ]
  },
  {
   "cell_type": "code",
   "execution_count": 146,
   "id": "384fb32e-fcbc-482e-bfed-82928522fed2",
   "metadata": {},
   "outputs": [],
   "source": [
    "# List of known primes less than 1000\n",
    "PRIMES_LESS_1000 =[2,3,5,7,11,13,17,19,23,29,31,37,41,43,47,53,59,61,67,71,73,79,83,89,97,101,103,107,109,113,127,131,137,139,149,151,157,163,167,173,179,181,191,193,197,199,211,223,227,229,233,239,241,251,257,263,269,271,277,281,283,293,307,311,313,317,331,337,347,349,353,359,367,373,379,383,389,397,401,409,419,421,431,433,439,443,449,457,461,463,467,479,487,491,499,503,509,521,523,541,547,557,563,569,571,577,587,593,599,601,607,613,617,619,631,641,643,647,653,659,661,673,677,683,691,701,709,719,727,733,739,743,751,757,761,769,773,787,797,809,811,821,823,827,829,839,853,857,859,863,877,881,883,887,907,911,919,929,937,941,947,953,967,971,977,983,991,997]"
   ]
  },
  {
   "cell_type": "code",
   "execution_count": 144,
   "id": "baed49eb-6700-4f42-b0eb-c0ae4e107b52",
   "metadata": {},
   "outputs": [
    {
     "data": {
      "text/plain": [
       "168"
      ]
     },
     "execution_count": 144,
     "metadata": {},
     "output_type": "execute_result"
    }
   ],
   "source": [
    "len(PRIMES_LESS_1000)"
   ]
  },
  {
   "cell_type": "code",
   "execution_count": null,
   "id": "9b7abcc5-7c10-446e-93a2-4906e4022b9a",
   "metadata": {},
   "outputs": [],
   "source": [
    "\n",
    "def is_prime(num):\n",
    "    \"\"\"\n",
    "    Function to check if number is prime\n",
    "    \"\"\"\n",
    "\n",
    "    if num<=1:\n",
    "        return False\n",
    "    if num==2:\n",
    "        return True\n",
    "    \n",
    "    sqrt_num = int(math.sqrt(num)) + 1\n",
    "    max_known_prime = max(PRIMES_LESS_1000)\n",
    "\n",
    "    # check for known primes\n",
    "    if sqrt_num <= max_known_prime:\n",
    "        for prime in [p for p in PRIMES_LESS_1000 if p<=sqrt_num]:\n",
    "            if num % prime == 0:\n",
    "                return False\n",
    "        return True\n",
    "\n",
    "    # iterate for unknown factors\n",
    "    for i in range(max_known_prime+1, int(math.sqrt(num)) + 1):\n",
    "        if num % i == 0:\n",
    "            return False\n",
    "    return True\n"
   ]
  },
  {
   "cell_type": "code",
   "execution_count": 148,
   "id": "175412fd-0ee6-4b77-b599-8cff29c0e846",
   "metadata": {},
   "outputs": [],
   "source": [
    "# Qudaratic function\n",
    "qfunc = lambda a, b, n: n**2 + a*n + b\n",
    "\n",
    "# main function\n",
    "def get_prod_coeff_of_max_consec_prime(p_lim, n_lim):\n",
    "    \"\"\"\n",
    "    p_lim: integer, upper/lower bound limit for the coefficients a,b\n",
    "    n_lim: integer, maximum n value, to avoid possible memory exhaustion.\n",
    "    \"\"\"\n",
    "\n",
    "    a_params = list(range(-(p_lim-1),p_lim))\n",
    "    b_params = list(range(-p_lim,p_lim+1))\n",
    "    print(f'a ranges from {a_params[0]} to {a_params[-1]}')\n",
    "    print(f'b ranges from {b_params[0]} to {b_params[-1]}')\n",
    "    params_comb = list(itertools.product(a_params, b_params))\n",
    "    \n",
    "    max_n = 0\n",
    "    coeff = (0,0) \n",
    "    for a,b in params_comb:\n",
    "        for n in range(n_lim):\n",
    "            if not is_prime(qfunc(a,b,n)):\n",
    "                if n > max_n:\n",
    "                    max_n = n\n",
    "                    coeff = (a,b)\n",
    "                    print(f'Got new max, {coeff} with {max_n} consecutive_prime_numbers')\n",
    "                break\n",
    "    print(f'Final max, {coeff} with {max_n} consecutive prime numbers. Product is {coeff[0]*coeff[1]}')\n",
    "    print('End of iteration.')\n"
   ]
  },
  {
   "cell_type": "code",
   "execution_count": 133,
   "id": "b16b588f-76b1-4d6e-966d-3d63ed2d2136",
   "metadata": {},
   "outputs": [
    {
     "name": "stdout",
     "output_type": "stream",
     "text": [
      "a ranges from -1999 to 1999\n",
      "b ranges from -2000 to 2000\n",
      "Got new max, (-1999, 2) with 1 consecutive_prime_numbers\n",
      "Got new max, (-1998, 1999) with 2 consecutive_prime_numbers\n",
      "Got new max, (-997, 1993) with 3 consecutive_prime_numbers\n",
      "Got new max, (-661, 1979) with 4 consecutive_prime_numbers\n",
      "Got new max, (-493, 1973) with 5 consecutive_prime_numbers\n",
      "Got new max, (-395, 1973) with 6 consecutive_prime_numbers\n",
      "Got new max, (-317, 1913) with 7 consecutive_prime_numbers\n",
      "Got new max, (-277, 1973) with 8 consecutive_prime_numbers\n",
      "Got new max, (-253, 1973) with 9 consecutive_prime_numbers\n",
      "Got new max, (-215, 1913) with 10 consecutive_prime_numbers\n",
      "Got new max, (-207, 1993) with 11 consecutive_prime_numbers\n",
      "Got new max, (-129, 1447) with 13 consecutive_prime_numbers\n",
      "Got new max, (-79, 1601) with 80 consecutive_prime_numbers\n",
      "Final max, (-79, 1601) with 80 consecutive prime numbers. Product is -126479\n",
      "End of iteration.\n",
      "CPU times: user 1min 22s, sys: 1.25 s, total: 1min 23s\n",
      "Wall time: 1min 23s\n"
     ]
    }
   ],
   "source": [
    "%%time\n",
    "lim = 2000\n",
    "n_lim = 200\n",
    "get_prod_coeff_of_max_consec_prime(lim, n_lim)\n",
    "\n"
   ]
  },
  {
   "cell_type": "code",
   "execution_count": null,
   "id": "267c30c4-ba2f-47ef-8ce5-108fc8308388",
   "metadata": {},
   "outputs": [
    {
     "name": "stdout",
     "output_type": "stream",
     "text": [
      "a ranges from -999 to 999\n",
      "b ranges from -1000 to 1000\n",
      "Got new max, (-999, 2) with 1 consecutive_prime_numbers\n",
      "Got new max, (-996, 997) with 2 consecutive_prime_numbers\n",
      "Got new max, (-499, 997) with 3 consecutive_prime_numbers\n",
      "Got new max, (-325, 977) with 4 consecutive_prime_numbers\n",
      "Got new max, (-245, 977) with 5 consecutive_prime_numbers\n",
      "Got new max, (-197, 983) with 6 consecutive_prime_numbers\n",
      "Got new max, (-163, 983) with 7 consecutive_prime_numbers\n",
      "Got new max, (-131, 941) with 8 consecutive_prime_numbers\n",
      "Got new max, (-121, 947) with 9 consecutive_prime_numbers\n",
      "Got new max, (-105, 967) with 11 consecutive_prime_numbers\n",
      "Got new max, (-61, 971) with 71 consecutive_prime_numbers\n",
      "Final max, (-61, 971) with 71 consecutive prime numbers. Product is -59231\n",
      "End of iteration.\n",
      "CPU times: user 18.9 s, sys: 156 ms, total: 19.1 s\n",
      "Wall time: 19.2 s\n"
     ]
    }
   ],
   "source": [
    "%%time\n",
    "lim = 1000\n",
    "n_lim = 200\n",
    "get_prod_coeff_of_max_consec_prime(lim, n_lim)\n",
    "\n"
   ]
  },
  {
   "cell_type": "code",
   "execution_count": 140,
   "id": "01c4971d-21e1-4961-a95f-32923ada1909",
   "metadata": {},
   "outputs": [
    {
     "data": {
      "text/plain": [
       "241000"
      ]
     },
     "execution_count": 140,
     "metadata": {},
     "output_type": "execute_result"
    }
   ],
   "source": []
  },
  {
   "cell_type": "code",
   "execution_count": 150,
   "id": "b4815c78-714f-4040-8077-d9ba52939c23",
   "metadata": {},
   "outputs": [
    {
     "name": "stdout",
     "output_type": "stream",
     "text": [
      "a ranges from -999 to 999\n",
      "b ranges from -1000 to 1000\n",
      "Got new max, (-999, 2) with 1 consecutive_prime_numbers\n",
      "Got new max, (-996, 997) with 2 consecutive_prime_numbers\n",
      "Got new max, (-499, 997) with 3 consecutive_prime_numbers\n",
      "Got new max, (-325, 977) with 4 consecutive_prime_numbers\n",
      "Got new max, (-245, 977) with 5 consecutive_prime_numbers\n",
      "Got new max, (-197, 983) with 6 consecutive_prime_numbers\n",
      "Got new max, (-163, 983) with 7 consecutive_prime_numbers\n",
      "Got new max, (-131, 941) with 8 consecutive_prime_numbers\n",
      "Got new max, (-121, 947) with 9 consecutive_prime_numbers\n",
      "Got new max, (-105, 967) with 11 consecutive_prime_numbers\n",
      "Got new max, (-61, 971) with 71 consecutive_prime_numbers\n",
      "Final max, (-61, 971) with 71 consecutive prime numbers. Product is -59231\n",
      "End of iteration.\n",
      "CPU times: user 18.7 s, sys: 125 ms, total: 18.8 s\n",
      "Wall time: 18.9 s\n"
     ]
    }
   ],
   "source": [
    "%%time\n",
    "lim = 1000\n",
    "n_lim = 10**4\n",
    "get_prod_coeff_of_max_consec_prime(lim, n_lim)"
   ]
  }
 ],
 "metadata": {
  "kernelspec": {
   "display_name": "Python 3 (ipykernel)",
   "language": "python",
   "name": "python3"
  },
  "language_info": {
   "codemirror_mode": {
    "name": "ipython",
    "version": 3
   },
   "file_extension": ".py",
   "mimetype": "text/x-python",
   "name": "python",
   "nbconvert_exporter": "python",
   "pygments_lexer": "ipython3",
   "version": "3.8.10"
  }
 },
 "nbformat": 4,
 "nbformat_minor": 5
}
